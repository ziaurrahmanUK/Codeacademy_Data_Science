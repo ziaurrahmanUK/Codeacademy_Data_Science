{
 "cells": [
  {
   "cell_type": "markdown",
   "metadata": {},
   "source": [
    "# U.S. Medical Insurance Costs"
   ]
  },
  {
   "cell_type": "markdown",
   "metadata": {},
   "source": [
    "Sunday 13 March 2022"
   ]
  },
  {
   "cell_type": "code",
   "execution_count": 29,
   "metadata": {},
   "outputs": [],
   "source": [
    "# import the data into a dictionary and then import into seperate lists\n",
    "\n",
    "import csv\n",
    "\n",
    "file_path = \"/Volumes/GoogleDrive/My Drive/CodeAcademy/DataScience/python-portfolio-project-starter-files/data/insurance.csv\"\n",
    "fieldnames=[\"age\", \"sex\", \"bmi\", \"children\", \"smoker\", \"region\", \"charges\"]\n",
    "\n",
    "\n",
    "age_list = []\n",
    "sex_list= []\n",
    "bmi_list = []\n",
    "children_list = []\n",
    "smoker_list = []\n",
    "region_list = []\n",
    "charges_list = []\n",
    "\n",
    "with open(file_path) as csv_file:\n",
    "    csv_reader = csv.DictReader(csv_file)\n",
    "    for row in csv_reader:\n",
    "        age_list.append(row[\"age\"])\n",
    "        sex_list.append(row[\"sex\"])\n",
    "        bmi_list.append(row[\"bmi\"])\n",
    "        children_list.append(row[\"children\"])\n",
    "        smoker_list.append(row[\"smoker\"])\n",
    "        region_list.append(row[\"region\"])\n",
    "        charges_list.append(row[\"charges\"])\n",
    "    \n"
   ]
  },
  {
   "cell_type": "code",
   "execution_count": 35,
   "metadata": {},
   "outputs": [],
   "source": [
    "# Cast the string fields of age, chidren, charges to int or float using list comprehensions\n",
    "\n",
    "age_list = [int(x) for x in age_list]\n",
    "bmi_list = [float(x) for x in bmi_list]\n",
    "charges_list = [float(x) for x in charges_list]\n",
    "children_list = [int(x) for x in children_list]\n",
    "\n",
    "# convert sex to int, where 1 = male and 0 = female,using dummy variables\n",
    "\n",
    "sex_list = [1 if x == \"male\" else 0 for x in sex_list]\n",
    "\n",
    "# convert sex to int, where 1 = male and 0 = female,using dummy variables\n",
    "\n",
    "smoker_list = [1 if x == \"yes\" else 0 for x in smoker_list]\n",
    "\n",
    "# optional - convert regions to shortcode i.e. SE is Southeast\n",
    "\n",
    "shortcode_regions_list = []\n",
    "for region in region_list:\n",
    "    if region == \"southwest\":\n",
    "        shortcode_regions_list.append(\"SW\")\n",
    "    elif region == \"southeast\":\n",
    "        shortcode_regions_list.append(\"SE\")\n",
    "    elif region == \"northeast\":\n",
    "        shortcode_regions_list.append(\"NE\")\n",
    "    elif region == \"northwest\":\n",
    "        shortcode_regions_list.append(\"NW\")\n",
    "    else:\n",
    "        shortcode_regions_list.append('-999')\n",
    "\n"
   ]
  },
  {
   "cell_type": "code",
   "execution_count": 41,
   "metadata": {},
   "outputs": [
    {
     "ename": "KeyError",
     "evalue": "19",
     "output_type": "error",
     "traceback": [
      "\u001b[0;31m---------------------------------------------------------------------------\u001b[0m",
      "\u001b[0;31mKeyError\u001b[0m                                  Traceback (most recent call last)",
      "\u001b[1;32m/Users/ziaurrahman/Documents/TTA-Home-Learning/Codeacademy_Data_Science/Portfolio_Project/us-medical-insurance-costs.ipynb Cell 5'\u001b[0m in \u001b[0;36m<module>\u001b[0;34m\u001b[0m\n\u001b[1;32m      <a href='vscode-notebook-cell:/Users/ziaurrahman/Documents/TTA-Home-Learning/Codeacademy_Data_Science/Portfolio_Project/us-medical-insurance-costs.ipynb#ch0000006?line=3'>4</a>\u001b[0m ages_dict \u001b[39m=\u001b[39m {}\n\u001b[1;32m      <a href='vscode-notebook-cell:/Users/ziaurrahman/Documents/TTA-Home-Learning/Codeacademy_Data_Science/Portfolio_Project/us-medical-insurance-costs.ipynb#ch0000006?line=5'>6</a>\u001b[0m \u001b[39mfor\u001b[39;00m i, age \u001b[39min\u001b[39;00m \u001b[39menumerate\u001b[39m(age_list):\n\u001b[0;32m----> <a href='vscode-notebook-cell:/Users/ziaurrahman/Documents/TTA-Home-Learning/Codeacademy_Data_Science/Portfolio_Project/us-medical-insurance-costs.ipynb#ch0000006?line=6'>7</a>\u001b[0m     \u001b[39mif\u001b[39;00m ages_dict[age] \u001b[39mnot\u001b[39;00m \u001b[39min\u001b[39;00m ages_dict\u001b[39m.\u001b[39mkeys():\n\u001b[1;32m      <a href='vscode-notebook-cell:/Users/ziaurrahman/Documents/TTA-Home-Learning/Codeacademy_Data_Science/Portfolio_Project/us-medical-insurance-costs.ipynb#ch0000006?line=7'>8</a>\u001b[0m         ages_dict[age] \u001b[39m=\u001b[39m []\n\u001b[1;32m      <a href='vscode-notebook-cell:/Users/ziaurrahman/Documents/TTA-Home-Learning/Codeacademy_Data_Science/Portfolio_Project/us-medical-insurance-costs.ipynb#ch0000006?line=8'>9</a>\u001b[0m     \u001b[39melse\u001b[39;00m:\n",
      "\u001b[0;31mKeyError\u001b[0m: 19"
     ]
    }
   ],
   "source": [
    "# Now data is in lists, we can create our own dictionaries for each analysis\n",
    "# fieldnames=[\"age\", \"sex\", \"bmi\", \"children\", \"smoker\", \"region\", \"charges\"]\n",
    "\n",
    "ages_dict = {}\n",
    "\n",
    "for i, age in enumerate(age_list):\n",
    "    if ages_dict[age] not in ages_dict.keys():\n",
    "        ages_dict[age] = []\n",
    "    else:\n",
    "        ages_dict[age].append(sex_list[i])\n",
    "        ages_dict[age].append(bmi_list[i])\n",
    "        ages_dict[age].append(children_list[i])\n",
    "        ages_dict[age].append(smoker_list[i])\n",
    "        ages_dict[age].append(region_list[i])\n",
    "        ages_dict[age].append(charges_list[i])\n",
    "    \n",
    "return ages_dict\n",
    "\n"
   ]
  },
  {
   "cell_type": "code",
   "execution_count": null,
   "metadata": {},
   "outputs": [],
   "source": []
  }
 ],
 "metadata": {
  "kernelspec": {
   "display_name": "Python 3",
   "language": "python",
   "name": "python3"
  },
  "language_info": {
   "codemirror_mode": {
    "name": "ipython",
    "version": 3
   },
   "file_extension": ".py",
   "mimetype": "text/x-python",
   "name": "python",
   "nbconvert_exporter": "python",
   "pygments_lexer": "ipython3",
   "version": "3.10.2"
  }
 },
 "nbformat": 4,
 "nbformat_minor": 4
}
